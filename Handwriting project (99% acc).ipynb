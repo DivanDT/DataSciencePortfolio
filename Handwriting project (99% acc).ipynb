{
 "cells": [
  {
   "cell_type": "code",
   "execution_count": 1,
   "id": "c0677184",
   "metadata": {},
   "outputs": [],
   "source": [
    "#Divan du Toit\n",
    "#2017168192\n",
    "#CSIA6813\n",
    "#Assignment 3\n",
    "\n",
    "import pandas as pd\n",
    "import numpy as np\n",
    "import matplotlib.pyplot as plt\n",
    "import matplotlib.image as mpimg\n",
    "import seaborn as sns\n",
    "%matplotlib inline\n",
    "\n",
    "np.random.seed(2)\n",
    "\n",
    "from sklearn.model_selection import train_test_split\n",
    "from sklearn.metrics import confusion_matrix\n",
    "\n",
    "from keras.utils.np_utils import to_categorical \n",
    "from keras.models import Sequential\n",
    "from keras.layers import Dense, Dropout, Flatten, Conv2D, MaxPool2D\n",
    "from keras.optimizers import Adam\n",
    "\n",
    "\n",
    "sns.set(style='white', context='notebook', palette='Pastel2')"
   ]
  },
  {
   "cell_type": "code",
   "execution_count": 2,
   "id": "0760cd39",
   "metadata": {},
   "outputs": [],
   "source": [
    "#import datasets\n",
    "train = pd.read_csv(\"training_data.csv\")\n",
    "test = pd.read_csv(\"testing_data.csv\")"
   ]
  },
  {
   "cell_type": "code",
   "execution_count": 3,
   "id": "9eb566fb",
   "metadata": {},
   "outputs": [
    {
     "data": {
      "text/plain": [
       "<bound method NDFrame.describe of        pixel0  pixel1  pixel2  pixel3  pixel4  pixel5  pixel6  pixel7  pixel8  \\\n",
       "0           0       0       0       0       0       0       0       0       0   \n",
       "1           0       0       0       0       0       0       0       0       0   \n",
       "2           0       0       0       0       0       0       0       0       0   \n",
       "3           0       0       0       0       0       0       0       0       0   \n",
       "4           0       0       0       0       0       0       0       0       0   \n",
       "...       ...     ...     ...     ...     ...     ...     ...     ...     ...   \n",
       "41995       0       0       0       0       0       0       0       0       0   \n",
       "41996       0       0       0       0       0       0       0       0       0   \n",
       "41997       0       0       0       0       0       0       0       0       0   \n",
       "41998       0       0       0       0       0       0       0       0       0   \n",
       "41999       0       0       0       0       0       0       0       0       0   \n",
       "\n",
       "       pixel9  ...  pixel774  pixel775  pixel776  pixel777  pixel778  \\\n",
       "0           0  ...         0         0         0         0         0   \n",
       "1           0  ...         0         0         0         0         0   \n",
       "2           0  ...         0         0         0         0         0   \n",
       "3           0  ...         0         0         0         0         0   \n",
       "4           0  ...         0         0         0         0         0   \n",
       "...       ...  ...       ...       ...       ...       ...       ...   \n",
       "41995       0  ...         0         0         0         0         0   \n",
       "41996       0  ...         0         0         0         0         0   \n",
       "41997       0  ...         0         0         0         0         0   \n",
       "41998       0  ...         0         0         0         0         0   \n",
       "41999       0  ...         0         0         0         0         0   \n",
       "\n",
       "       pixel779  pixel780  pixel781  pixel782  pixel783  \n",
       "0             0         0         0         0         0  \n",
       "1             0         0         0         0         0  \n",
       "2             0         0         0         0         0  \n",
       "3             0         0         0         0         0  \n",
       "4             0         0         0         0         0  \n",
       "...         ...       ...       ...       ...       ...  \n",
       "41995         0         0         0         0         0  \n",
       "41996         0         0         0         0         0  \n",
       "41997         0         0         0         0         0  \n",
       "41998         0         0         0         0         0  \n",
       "41999         0         0         0         0         0  \n",
       "\n",
       "[42000 rows x 784 columns]>"
      ]
     },
     "execution_count": 3,
     "metadata": {},
     "output_type": "execute_result"
    }
   ],
   "source": [
    "Y_train = train[\"label\"]\n",
    "#drop label from original training set\n",
    "X_train = train.drop(labels = [\"label\"],axis = 1)\n",
    "\n",
    "#Inspect the dataset regarding its columns, shape and content.\n",
    "X_train.columns\n",
    "X_train.shape\n",
    "X_train.describe"
   ]
  },
  {
   "cell_type": "code",
   "execution_count": 4,
   "id": "fd764710",
   "metadata": {},
   "outputs": [
    {
     "name": "stderr",
     "output_type": "stream",
     "text": [
      "D:\\Coding\\Anaconda\\lib\\site-packages\\seaborn\\_decorators.py:36: FutureWarning: Pass the following variable as a keyword arg: x. From version 0.12, the only valid positional argument will be `data`, and passing other arguments without an explicit keyword will result in an error or misinterpretation.\n",
      "  warnings.warn(\n"
     ]
    },
    {
     "data": {
      "text/plain": [
       "1    4684\n",
       "7    4401\n",
       "3    4351\n",
       "9    4188\n",
       "2    4177\n",
       "6    4137\n",
       "0    4132\n",
       "4    4072\n",
       "8    4063\n",
       "5    3795\n",
       "Name: label, dtype: int64"
      ]
     },
     "execution_count": 4,
     "metadata": {},
     "output_type": "execute_result"
    },
    {
     "data": {
      "image/png": "[encoded data removed]",
      "text/plain": [
       "<Figure size 432x288 with 1 Axes>"
      ]
     },
     "metadata": {},
     "output_type": "display_data"
    }
   ],
   "source": [
    "#create graph to inspect dataset balance\n",
    "traingraph = sns.countplot(Y_train)\n",
    "traingraph = traingraph.set(xlabel='Digit',ylabel='Count')\n",
    "plt.title('Training Data Balance')\n",
    "Y_train.value_counts()\n",
    "#From graph we can conclude that data is not unbalanced"
   ]
  },
  {
   "cell_type": "code",
   "execution_count": 5,
   "id": "147629cc",
   "metadata": {},
   "outputs": [
    {
     "data": {
      "text/plain": [
       "count       784\n",
       "unique        1\n",
       "top       False\n",
       "freq        784\n",
       "dtype: object"
      ]
     },
     "execution_count": 5,
     "metadata": {},
     "output_type": "execute_result"
    }
   ],
   "source": [
    "#Check for null values in training set\n",
    "X_train.isnull().any().describe()\n",
    "\n",
    "#No null values"
   ]
  },
  {
   "cell_type": "code",
   "execution_count": 6,
   "id": "09bb54b9",
   "metadata": {},
   "outputs": [
    {
     "data": {
      "text/plain": [
       "count       784\n",
       "unique        1\n",
       "top       False\n",
       "freq        784\n",
       "dtype: object"
      ]
     },
     "execution_count": 6,
     "metadata": {},
     "output_type": "execute_result"
    }
   ],
   "source": [
    "#Check for null values in test set\n",
    "test.isnull().any().describe()\n",
    "\n",
    "#No null values"
   ]
  },
  {
   "cell_type": "code",
   "execution_count": 7,
   "id": "a8141776",
   "metadata": {},
   "outputs": [],
   "source": [
    "#Normalization\n",
    "#Will perform to convert illumination from [0...255] to [0...1]\n",
    "#Will make CNN converge faster\n",
    "X_train = X_train / 255.0\n",
    "test = test / 255.0"
   ]
  },
  {
   "cell_type": "code",
   "execution_count": 8,
   "id": "c8742797",
   "metadata": {},
   "outputs": [],
   "source": [
    "#Reshape image to 28x28x1\n",
    "X_train = X_train.values.reshape(-1,28,28,1)\n",
    "test = test.values.reshape(-1,28,28,1)"
   ]
  },
  {
   "cell_type": "code",
   "execution_count": 9,
   "id": "c3ace8b1",
   "metadata": {},
   "outputs": [],
   "source": [
    "#Label encoding\n",
    "Y_train = to_categorical(Y_train, num_classes = 10)"
   ]
  },
  {
   "cell_type": "code",
   "execution_count": 10,
   "id": "fe79c220",
   "metadata": {},
   "outputs": [],
   "source": [
    "#split training and validation set\n",
    "\n",
    "#set random seed for consistency\n",
    "random_seed = 2\n",
    "\n",
    "#split 0.1/0,9\n",
    "X_train, X_val, Y_train, Y_val = train_test_split(X_train, Y_train, test_size = 0.1, random_state=random_seed)"
   ]
  },
  {
   "cell_type": "code",
   "execution_count": 11,
   "id": "9bf02721",
   "metadata": {},
   "outputs": [
    {
     "data": {
      "image/png": "[encoded data removed]",
      "text/plain": [
       "<Figure size 432x288 with 1 Axes>"
      ]
     },
     "metadata": {},
     "output_type": "display_data"
    }
   ],
   "source": [
    "#inspect example\n",
    "g = plt.imshow(X_train[20][:,:,0])"
   ]
  },
  {
   "cell_type": "code",
   "execution_count": 12,
   "id": "d5519ea1",
   "metadata": {},
   "outputs": [],
   "source": [
    "#Create CNN\n",
    "#my CNN architechture is In -> [[Conv2D->relu]*2 -> MaxPool2D -> Dropout]*2 -> Flatten -> Dense -> Dropout -> Out\n",
    "model = Sequential()\n",
    "\n",
    "#first add 2 Convolution layers with relu activation\n",
    "model.add(Conv2D(filters = 32, kernel_size= (5,5),\n",
    "                 padding ='Same', activation = 'relu',\n",
    "                 input_shape=(28,28,1)))\n",
    "model.add(Conv2D(filters = 32, kernel_size= (5,5),\n",
    "                 padding ='Same', activation = 'relu'))\n",
    "#Then add MaxPool2D layer \n",
    "model.add(MaxPool2D(pool_size=(2,2)))\n",
    "#Add dropout layer to improve generalization and reduce overfitting\n",
    "model.add(Dropout(0.25))\n",
    "\n",
    "#Duplicate above but for new dimenstions\n",
    "model.add(Conv2D(filters = 64, kernel_size= (3,3),\n",
    "                 padding ='Same', activation = 'relu'))\n",
    "model.add(Conv2D(filters = 64, kernel_size= (3,3),\n",
    "                 padding ='Same', activation = 'relu'))\n",
    "model.add(MaxPool2D(pool_size=(2,2), strides = (2,2)))\n",
    "model.add(Dropout(0.25))\n",
    "\n",
    "#flatten to use fully connected layers\n",
    "model.add(Flatten())\n",
    "model.add(Dense(256, activation = \"relu\"))\n",
    "model.add(Dropout(0.5))\n",
    "#Softmax outputs distribution of each digit\n",
    "model.add(Dense(10, activation = \"softmax\"))\n"
   ]
  },
  {
   "cell_type": "code",
   "execution_count": 13,
   "id": "5d0861df",
   "metadata": {},
   "outputs": [],
   "source": [
    "#Create Optimizer \n",
    "#Will use adam instead of normal SGD\n",
    "optimizer = Adam(lr=0.001, beta_1=0.9, beta_2=0.999)"
   ]
  },
  {
   "cell_type": "code",
   "execution_count": 14,
   "id": "3cc347af",
   "metadata": {},
   "outputs": [],
   "source": [
    "#Compile model\n",
    "model.compile(optimizer = optimizer,\n",
    "              loss = \"categorical_crossentropy\",\n",
    "              metrics=[\"accuracy\"])\n"
   ]
  },
  {
   "cell_type": "code",
   "execution_count": 15,
   "id": "c614dbe1",
   "metadata": {},
   "outputs": [],
   "source": [
    "#set parameters for testing\n",
    "epochs = 10\n",
    "batch_size = 250"
   ]
  },
  {
   "cell_type": "code",
   "execution_count": 16,
   "id": "ada9841b",
   "metadata": {},
   "outputs": [
    {
     "name": "stdout",
     "output_type": "stream",
     "text": [
      "Epoch 1/10\n",
      "151/151 [==============================] - 91s 602ms/step - loss: 0.3666 - accuracy: 0.8792 - val_loss: 0.0779 - val_accuracy: 0.9738\n",
      "Epoch 2/10\n",
      "151/151 [==============================] - 96s 634ms/step - loss: 0.0934 - accuracy: 0.9720 - val_loss: 0.0534 - val_accuracy: 0.9824\n",
      "Epoch 3/10\n",
      "151/151 [==============================] - 91s 599ms/step - loss: 0.0700 - accuracy: 0.9782 - val_loss: 0.0391 - val_accuracy: 0.9888\n",
      "Epoch 4/10\n",
      "151/151 [==============================] - 93s 614ms/step - loss: 0.0538 - accuracy: 0.9843 - val_loss: 0.0357 - val_accuracy: 0.9883\n",
      "Epoch 5/10\n",
      "151/151 [==============================] - 96s 637ms/step - loss: 0.0489 - accuracy: 0.9859 - val_loss: 0.0326 - val_accuracy: 0.9910\n",
      "Epoch 6/10\n",
      "151/151 [==============================] - 92s 613ms/step - loss: 0.0414 - accuracy: 0.9870 - val_loss: 0.0358 - val_accuracy: 0.9910\n",
      "Epoch 7/10\n",
      "151/151 [==============================] - 90s 594ms/step - loss: 0.0341 - accuracy: 0.9894 - val_loss: 0.0331 - val_accuracy: 0.9902\n",
      "Epoch 8/10\n",
      "151/151 [==============================] - 106s 702ms/step - loss: 0.0334 - accuracy: 0.9894 - val_loss: 0.0300 - val_accuracy: 0.9914\n",
      "Epoch 9/10\n",
      "151/151 [==============================] - 107s 711ms/step - loss: 0.0296 - accuracy: 0.9909 - val_loss: 0.0269 - val_accuracy: 0.9919\n",
      "Epoch 10/10\n",
      "151/151 [==============================] - 105s 698ms/step - loss: 0.0267 - accuracy: 0.9913 - val_loss: 0.0246 - val_accuracy: 0.9936\n"
     ]
    }
   ],
   "source": [
    "#model fitting\n",
    "hist = model.fit(X_train,Y_train,batch_size,epochs,\n",
    "          verbose=1,validation_data=(X_val,Y_val),\n",
    "          steps_per_epoch=X_train.shape[0]//batch_size)"
   ]
  },
  {
   "cell_type": "code",
   "execution_count": 17,
   "id": "a06d2b22",
   "metadata": {},
   "outputs": [
    {
     "name": "stdout",
     "output_type": "stream",
     "text": [
      "132/132 [==============================] - 2s 13ms/step - loss: 0.0246 - accuracy: 0.9936\n",
      "Final loss: 0.0246, final accuracy: 0.9936\n"
     ]
    }
   ],
   "source": [
    "#Print final loss and accuracy\n",
    "final_loss, final_acc = model.evaluate(X_val, Y_val, verbose=1)\n",
    "print(\"Final loss: {0:.4f}, final accuracy: {1:.4f}\".format(final_loss, final_acc))"
   ]
  },
  {
   "cell_type": "code",
   "execution_count": 18,
   "id": "d9db6102",
   "metadata": {},
   "outputs": [
    {
     "data": {
      "image/png": "[encoded data removed]",
      "text/plain": [
       "<Figure size 432x288 with 2 Axes>"
      ]
     },
     "metadata": {},
     "output_type": "display_data"
    }
   ],
   "source": [
    "#plot loss and accuracy curves\n",
    "fig, ax = plt.subplots(2,1)\n",
    "ax[0].plot(hist.history['loss'], color='b', label=\"Training loss\")\n",
    "ax[0].plot(hist.history['val_loss'], color='r', label=\"Validation loss\",axes =ax[0])\n",
    "legend = ax[0].legend(loc='best', shadow=True)\n",
    "\n",
    "ax[1].plot(hist.history['accuracy'], color='b', label=\"Training accuracy\")\n",
    "ax[1].plot(hist.history['val_accuracy'], color='r',label=\"Validation accuracy\")\n",
    "legend = ax[1].legend(loc='best', shadow=True)"
   ]
  },
  {
   "cell_type": "code",
   "execution_count": 19,
   "id": "406140db",
   "metadata": {},
   "outputs": [
    {
     "name": "stdout",
     "output_type": "stream",
     "text": [
      "[[411   0   0   0   0   0   0   0   0   0]\n",
      " [  0 483   0   1   0   0   0   0   1   0]\n",
      " [  0   0 401   1   0   0   0   0   0   1]\n",
      " [  0   0   0 415   0   0   0   0   3   0]\n",
      " [  0   0   1   0 458   0   1   0   0   1]\n",
      " [  0   0   0   1   0 369   1   0   1   0]\n",
      " [  3   1   0   0   0   0 408   0   1   0]\n",
      " [  0   0   2   0   0   0   0 444   0   0]\n",
      " [  0   0   0   0   0   0   0   0 381   1]\n",
      " [  1   0   0   0   2   0   0   3   0 403]]\n"
     ]
    }
   ],
   "source": [
    "#show confusion matrix\n",
    "Y_hat = model.predict(X_val)\n",
    "Y_pred = np.argmax(Y_hat, axis=1)\n",
    "Y_true = np.argmax(Y_val, axis=1)\n",
    "cm = confusion_matrix(Y_true, Y_pred)\n",
    "print(cm)"
   ]
  },
  {
   "cell_type": "code",
   "execution_count": null,
   "id": "b4ff7568",
   "metadata": {},
   "outputs": [],
   "source": []
  }
 ],
 "metadata": {
  "kernelspec": {
   "display_name": "Python 3",
   "language": "python",
   "name": "python3"
  },
  "language_info": {
   "codemirror_mode": {
    "name": "ipython",
    "version": 3
   },
   "file_extension": ".py",
   "mimetype": "text/x-python",
   "name": "python",
   "nbconvert_exporter": "python",
   "pygments_lexer": "ipython3",
   "version": "3.8.8"
  }
 },
 "nbformat": 4,
 "nbformat_minor": 5
}
